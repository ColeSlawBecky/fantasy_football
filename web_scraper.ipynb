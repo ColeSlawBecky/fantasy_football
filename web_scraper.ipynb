{
 "cells": [
  {
   "cell_type": "markdown",
   "metadata": {},
   "source": [
    "# Web Scrapers"
   ]
  },
  {
   "cell_type": "code",
   "execution_count": 1,
   "metadata": {
    "collapsed": true
   },
   "outputs": [],
   "source": [
    "import requests\n",
    "import urllib.request\n",
    "import time\n",
    "import re\n",
    "from bs4 import BeautifulSoup\n",
    "import pandas as pd\n",
    "import string"
   ]
  },
  {
   "cell_type": "markdown",
   "metadata": {},
   "source": [
    "## Fantasy Pros"
   ]
  },
  {
   "cell_type": "code",
   "execution_count": 2,
   "metadata": {
    "collapsed": true
   },
   "outputs": [],
   "source": [
    "fantasy_pros_urls = ['https://www.fantasypros.com/nfl/projections/qb.php?week=1',\n",
    "                    'https://www.fantasypros.com/nfl/projections/rb.php?week=1',\n",
    "                    'https://www.fantasypros.com/nfl/projections/wr.php?week=1',\n",
    "                    'https://www.fantasypros.com/nfl/projections/te.php?week=1',\n",
    "                    'https://www.fantasypros.com/nfl/projections/k.php?week=1',\n",
    "                    'https://www.fantasypros.com/nfl/projections/dst.php?week=1']"
   ]
  },
  {
   "cell_type": "code",
   "execution_count": 3,
   "metadata": {},
   "outputs": [
    {
     "name": "stdout",
     "output_type": "stream",
     "text": [
      "Running Code for https://www.fantasypros.com/nfl/projections/qb.php?week=1\n",
      "<Response [200]>\n",
      "Total Number of Players: 46\n",
      "Total Numbef of Scores: 46\n",
      "Running Code for https://www.fantasypros.com/nfl/projections/rb.php?week=1\n",
      "<Response [200]>\n",
      "Total Number of Players: 206\n",
      "Total Numbef of Scores: 206\n",
      "Running Code for https://www.fantasypros.com/nfl/projections/wr.php?week=1\n",
      "<Response [200]>\n",
      "Total Number of Players: 414\n",
      "Total Numbef of Scores: 414\n",
      "Running Code for https://www.fantasypros.com/nfl/projections/te.php?week=1\n",
      "<Response [200]>\n",
      "Total Number of Players: 524\n",
      "Total Numbef of Scores: 524\n",
      "Running Code for https://www.fantasypros.com/nfl/projections/k.php?week=1\n",
      "<Response [200]>\n",
      "Total Number of Players: 556\n",
      "Total Numbef of Scores: 556\n",
      "Running Code for https://www.fantasypros.com/nfl/projections/dst.php?week=1\n",
      "<Response [200]>\n",
      "Total Number of Players: 588\n",
      "Total Numbef of Scores: 588\n"
     ]
    }
   ],
   "source": [
    "fantasy_pros_players = []\n",
    "fantasy_pros_points = []\n",
    "fantasy_pros_positions = []\n",
    "\n",
    "for url in fantasy_pros_urls:\n",
    "    position = (url.split('https://www.fantasypros.com/nfl/projections/'))[1].split('.php?week=1')[0]\n",
    "    print(\"Running Code for {}\".format(url))\n",
    "    response = requests.get(url)\n",
    "    print(response)\n",
    "    soup = BeautifulSoup(response.text, \"html.parser\")\n",
    "    \n",
    "    tbl = soup.find('table')\n",
    "    rows = tbl.findAll('tr')\n",
    "    for row in rows:\n",
    "        c = 0\n",
    "        for names in row.find_all(class_='player-name'):\n",
    "            fantasy_pros_players.append(names.text)\n",
    "        for points in row.find_all('td', attrs = {'class' : 'center', 'data-sort-value': True }):\n",
    "            fantasy_pros_positions.append(position)\n",
    "            fantasy_pros_points.append(points.text)\n",
    "\n",
    "    print(\"Total Number of Players: {}\".format(len(fantasy_pros_players)))\n",
    "    print(\"Total Numbef of Scores: {}\".format(len(fantasy_pros_points)))\n",
    "    "
   ]
  },
  {
   "cell_type": "markdown",
   "metadata": {},
   "source": [
    "## Create Table"
   ]
  },
  {
   "cell_type": "code",
   "execution_count": 4,
   "metadata": {
    "collapsed": true
   },
   "outputs": [],
   "source": [
    "d = {'Players':fantasy_pros_players, 'Position':fantasy_pros_positions, 'fantasy_pros':fantasy_pros_points}\n",
    "df = pd.DataFrame(d)\n",
    "df.Players = df['Players'].str.replace('[{}]'.format(string.punctuation), '')\n",
    "df.Players = df['Players'].str.lower()"
   ]
  },
  {
   "cell_type": "markdown",
   "metadata": {},
   "source": [
    "## My Teams"
   ]
  },
  {
   "cell_type": "code",
   "execution_count": 5,
   "metadata": {
    "collapsed": true
   },
   "outputs": [],
   "source": [
    "wide_open_spaces = ['carson wentz', 'deandre hopkins', 'julio jones', 'julian edelman', 'leonard fournette', \n",
    "                    'james white', 'eric ebron', 'calvin ridley', 'jordan howard', 'ben roethlisberger', \n",
    "                    'chris thompson', 'dion lewis', 'jordan reed', 'dk metcalf', 'robbie gould', 'houston']"
   ]
  },
  {
   "cell_type": "code",
   "execution_count": 6,
   "metadata": {
    "collapsed": true
   },
   "outputs": [],
   "source": [
    "brees_up_my_dress = ['baker mayfield', 'deandre hopkins', 'michael thomas', 'joe mixon', 'josh jacobs',\n",
    "                     'zach ertz', 'ty hilton', 'david montgomery', 'drew brees', 'robby anderson', 'tarik cohen',\n",
    "                     'derrius guice', 'eric ebron', 'kaimi fairbairn', 'los angeles']"
   ]
  },
  {
   "cell_type": "code",
   "execution_count": 14,
   "metadata": {
    "collapsed": true
   },
   "outputs": [],
   "source": [
    "team_win = ['aaron rodgers', 'leonard fournette', 'melvin gordon', 'julio jones', 'tyreek hill', 'eric ebron'\n",
    "            , 'marlon mack', 'houston', 'robbie gould', 'calvin ridley', 'damien williams', 'drew brees'\n",
    "            , 'david njoku', 'dante pettis']"
   ]
  },
  {
   "cell_type": "markdown",
   "metadata": {},
   "source": [
    "## Find Players"
   ]
  },
  {
   "cell_type": "markdown",
   "metadata": {},
   "source": [
    "### Functions"
   ]
  },
  {
   "cell_type": "code",
   "execution_count": 8,
   "metadata": {
    "collapsed": true
   },
   "outputs": [],
   "source": [
    "def create_team_df(team_name):\n",
    "    team_df = pd.DataFrame()\n",
    "    for player in team_name:\n",
    "        temp = df[df['Players'].str.contains(player)]\n",
    "        if temp.shape[0] > 0:\n",
    "            team_df = pd.concat([team_df, temp])\n",
    "            temp = pd.DataFrame()\n",
    "        else:\n",
    "            print(\"Player {} not found\".format(player))\n",
    "    return team_df"
   ]
  },
  {
   "cell_type": "markdown",
   "metadata": {},
   "source": [
    "### Get Teams"
   ]
  },
  {
   "cell_type": "code",
   "execution_count": 9,
   "metadata": {
    "collapsed": true
   },
   "outputs": [],
   "source": [
    "WOS = create_team_df(wide_open_spaces)"
   ]
  },
  {
   "cell_type": "code",
   "execution_count": 10,
   "metadata": {},
   "outputs": [
    {
     "data": {
      "text/html": [
       "<div>\n",
       "<style scoped>\n",
       "    .dataframe tbody tr th:only-of-type {\n",
       "        vertical-align: middle;\n",
       "    }\n",
       "\n",
       "    .dataframe tbody tr th {\n",
       "        vertical-align: top;\n",
       "    }\n",
       "\n",
       "    .dataframe thead th {\n",
       "        text-align: right;\n",
       "    }\n",
       "</style>\n",
       "<table border=\"1\" class=\"dataframe\">\n",
       "  <thead>\n",
       "    <tr style=\"text-align: right;\">\n",
       "      <th></th>\n",
       "      <th>Players</th>\n",
       "      <th>Position</th>\n",
       "      <th>fantasy_pros</th>\n",
       "    </tr>\n",
       "  </thead>\n",
       "  <tbody>\n",
       "    <tr>\n",
       "      <th>7</th>\n",
       "      <td>carson wentz</td>\n",
       "      <td>qb</td>\n",
       "      <td>19.2</td>\n",
       "    </tr>\n",
       "    <tr>\n",
       "      <th>206</th>\n",
       "      <td>deandre hopkins</td>\n",
       "      <td>wr</td>\n",
       "      <td>13.5</td>\n",
       "    </tr>\n",
       "    <tr>\n",
       "      <th>207</th>\n",
       "      <td>julio jones</td>\n",
       "      <td>wr</td>\n",
       "      <td>12.9</td>\n",
       "    </tr>\n",
       "    <tr>\n",
       "      <th>220</th>\n",
       "      <td>julian edelman</td>\n",
       "      <td>wr</td>\n",
       "      <td>10.7</td>\n",
       "    </tr>\n",
       "    <tr>\n",
       "      <th>54</th>\n",
       "      <td>leonard fournette</td>\n",
       "      <td>rb</td>\n",
       "      <td>14.8</td>\n",
       "    </tr>\n",
       "    <tr>\n",
       "      <th>77</th>\n",
       "      <td>james white</td>\n",
       "      <td>rb</td>\n",
       "      <td>7.7</td>\n",
       "    </tr>\n",
       "    <tr>\n",
       "      <th>426</th>\n",
       "      <td>eric ebron</td>\n",
       "      <td>te</td>\n",
       "      <td>6.0</td>\n",
       "    </tr>\n",
       "    <tr>\n",
       "      <th>243</th>\n",
       "      <td>calvin ridley</td>\n",
       "      <td>wr</td>\n",
       "      <td>7.0</td>\n",
       "    </tr>\n",
       "    <tr>\n",
       "      <th>72</th>\n",
       "      <td>jordan howard</td>\n",
       "      <td>rb</td>\n",
       "      <td>9.3</td>\n",
       "    </tr>\n",
       "    <tr>\n",
       "      <th>12</th>\n",
       "      <td>ben roethlisberger</td>\n",
       "      <td>qb</td>\n",
       "      <td>18.2</td>\n",
       "    </tr>\n",
       "    <tr>\n",
       "      <th>98</th>\n",
       "      <td>chris thompson</td>\n",
       "      <td>rb</td>\n",
       "      <td>4.2</td>\n",
       "    </tr>\n",
       "    <tr>\n",
       "      <th>88</th>\n",
       "      <td>dion lewis</td>\n",
       "      <td>rb</td>\n",
       "      <td>5.7</td>\n",
       "    </tr>\n",
       "    <tr>\n",
       "      <th>427</th>\n",
       "      <td>jordan reed</td>\n",
       "      <td>te</td>\n",
       "      <td>5.6</td>\n",
       "    </tr>\n",
       "    <tr>\n",
       "      <th>289</th>\n",
       "      <td>dk metcalf</td>\n",
       "      <td>wr</td>\n",
       "      <td>3.3</td>\n",
       "    </tr>\n",
       "    <tr>\n",
       "      <th>533</th>\n",
       "      <td>robbie gould</td>\n",
       "      <td>k</td>\n",
       "      <td>8.5</td>\n",
       "    </tr>\n",
       "    <tr>\n",
       "      <th>586</th>\n",
       "      <td>houston texans</td>\n",
       "      <td>dst</td>\n",
       "      <td>5.1</td>\n",
       "    </tr>\n",
       "  </tbody>\n",
       "</table>\n",
       "</div>"
      ],
      "text/plain": [
       "                Players Position fantasy_pros\n",
       "7          carson wentz       qb         19.2\n",
       "206     deandre hopkins       wr         13.5\n",
       "207         julio jones       wr         12.9\n",
       "220      julian edelman       wr         10.7\n",
       "54    leonard fournette       rb         14.8\n",
       "77          james white       rb          7.7\n",
       "426          eric ebron       te          6.0\n",
       "243       calvin ridley       wr          7.0\n",
       "72        jordan howard       rb          9.3\n",
       "12   ben roethlisberger       qb         18.2\n",
       "98       chris thompson       rb          4.2\n",
       "88           dion lewis       rb          5.7\n",
       "427         jordan reed       te          5.6\n",
       "289          dk metcalf       wr          3.3\n",
       "533        robbie gould        k          8.5\n",
       "586      houston texans      dst          5.1"
      ]
     },
     "execution_count": 10,
     "metadata": {},
     "output_type": "execute_result"
    }
   ],
   "source": [
    "WOS"
   ]
  },
  {
   "cell_type": "code",
   "execution_count": 11,
   "metadata": {
    "collapsed": true
   },
   "outputs": [],
   "source": [
    "BUMD = create_team_df(brees_up_my_dress)"
   ]
  },
  {
   "cell_type": "code",
   "execution_count": 12,
   "metadata": {},
   "outputs": [
    {
     "data": {
      "text/html": [
       "<div>\n",
       "<style scoped>\n",
       "    .dataframe tbody tr th:only-of-type {\n",
       "        vertical-align: middle;\n",
       "    }\n",
       "\n",
       "    .dataframe tbody tr th {\n",
       "        vertical-align: top;\n",
       "    }\n",
       "\n",
       "    .dataframe thead th {\n",
       "        text-align: right;\n",
       "    }\n",
       "</style>\n",
       "<table border=\"1\" class=\"dataframe\">\n",
       "  <thead>\n",
       "    <tr style=\"text-align: right;\">\n",
       "      <th></th>\n",
       "      <th>Players</th>\n",
       "      <th>Position</th>\n",
       "      <th>fantasy_pros</th>\n",
       "    </tr>\n",
       "  </thead>\n",
       "  <tbody>\n",
       "    <tr>\n",
       "      <th>10</th>\n",
       "      <td>baker mayfield</td>\n",
       "      <td>qb</td>\n",
       "      <td>18.9</td>\n",
       "    </tr>\n",
       "    <tr>\n",
       "      <th>206</th>\n",
       "      <td>deandre hopkins</td>\n",
       "      <td>wr</td>\n",
       "      <td>13.5</td>\n",
       "    </tr>\n",
       "    <tr>\n",
       "      <th>212</th>\n",
       "      <td>michael thomas</td>\n",
       "      <td>wr</td>\n",
       "      <td>12.2</td>\n",
       "    </tr>\n",
       "    <tr>\n",
       "      <th>60</th>\n",
       "      <td>joe mixon</td>\n",
       "      <td>rb</td>\n",
       "      <td>12.9</td>\n",
       "    </tr>\n",
       "    <tr>\n",
       "      <th>64</th>\n",
       "      <td>josh jacobs</td>\n",
       "      <td>rb</td>\n",
       "      <td>12.3</td>\n",
       "    </tr>\n",
       "    <tr>\n",
       "      <th>416</th>\n",
       "      <td>zach ertz</td>\n",
       "      <td>te</td>\n",
       "      <td>8.9</td>\n",
       "    </tr>\n",
       "    <tr>\n",
       "      <th>236</th>\n",
       "      <td>ty hilton</td>\n",
       "      <td>wr</td>\n",
       "      <td>7.9</td>\n",
       "    </tr>\n",
       "    <tr>\n",
       "      <th>68</th>\n",
       "      <td>david montgomery</td>\n",
       "      <td>rb</td>\n",
       "      <td>11.4</td>\n",
       "    </tr>\n",
       "    <tr>\n",
       "      <th>2</th>\n",
       "      <td>drew brees</td>\n",
       "      <td>qb</td>\n",
       "      <td>20.5</td>\n",
       "    </tr>\n",
       "    <tr>\n",
       "      <th>235</th>\n",
       "      <td>robby anderson</td>\n",
       "      <td>wr</td>\n",
       "      <td>8.3</td>\n",
       "    </tr>\n",
       "    <tr>\n",
       "      <th>78</th>\n",
       "      <td>tarik cohen</td>\n",
       "      <td>rb</td>\n",
       "      <td>7.4</td>\n",
       "    </tr>\n",
       "    <tr>\n",
       "      <th>85</th>\n",
       "      <td>derrius guice</td>\n",
       "      <td>rb</td>\n",
       "      <td>6.0</td>\n",
       "    </tr>\n",
       "    <tr>\n",
       "      <th>426</th>\n",
       "      <td>eric ebron</td>\n",
       "      <td>te</td>\n",
       "      <td>6.0</td>\n",
       "    </tr>\n",
       "    <tr>\n",
       "      <th>537</th>\n",
       "      <td>kaimi fairbairn</td>\n",
       "      <td>k</td>\n",
       "      <td>8.3</td>\n",
       "    </tr>\n",
       "    <tr>\n",
       "      <th>563</th>\n",
       "      <td>los angeles chargers</td>\n",
       "      <td>dst</td>\n",
       "      <td>7.3</td>\n",
       "    </tr>\n",
       "    <tr>\n",
       "      <th>568</th>\n",
       "      <td>los angeles rams</td>\n",
       "      <td>dst</td>\n",
       "      <td>6.6</td>\n",
       "    </tr>\n",
       "  </tbody>\n",
       "</table>\n",
       "</div>"
      ],
      "text/plain": [
       "                  Players Position fantasy_pros\n",
       "10         baker mayfield       qb         18.9\n",
       "206       deandre hopkins       wr         13.5\n",
       "212        michael thomas       wr         12.2\n",
       "60              joe mixon       rb         12.9\n",
       "64            josh jacobs       rb         12.3\n",
       "416             zach ertz       te          8.9\n",
       "236             ty hilton       wr          7.9\n",
       "68       david montgomery       rb         11.4\n",
       "2              drew brees       qb         20.5\n",
       "235        robby anderson       wr          8.3\n",
       "78            tarik cohen       rb          7.4\n",
       "85          derrius guice       rb          6.0\n",
       "426            eric ebron       te          6.0\n",
       "537       kaimi fairbairn        k          8.3\n",
       "563  los angeles chargers      dst          7.3\n",
       "568      los angeles rams      dst          6.6"
      ]
     },
     "execution_count": 12,
     "metadata": {},
     "output_type": "execute_result"
    }
   ],
   "source": [
    "BUMD"
   ]
  },
  {
   "cell_type": "code",
   "execution_count": 15,
   "metadata": {},
   "outputs": [],
   "source": [
    "TW = create_team_df(team_win)"
   ]
  },
  {
   "cell_type": "code",
   "execution_count": 16,
   "metadata": {},
   "outputs": [
    {
     "data": {
      "text/html": [
       "<div>\n",
       "<style scoped>\n",
       "    .dataframe tbody tr th:only-of-type {\n",
       "        vertical-align: middle;\n",
       "    }\n",
       "\n",
       "    .dataframe tbody tr th {\n",
       "        vertical-align: top;\n",
       "    }\n",
       "\n",
       "    .dataframe thead th {\n",
       "        text-align: right;\n",
       "    }\n",
       "</style>\n",
       "<table border=\"1\" class=\"dataframe\">\n",
       "  <thead>\n",
       "    <tr style=\"text-align: right;\">\n",
       "      <th></th>\n",
       "      <th>Players</th>\n",
       "      <th>Position</th>\n",
       "      <th>fantasy_pros</th>\n",
       "    </tr>\n",
       "  </thead>\n",
       "  <tbody>\n",
       "    <tr>\n",
       "      <th>5</th>\n",
       "      <td>aaron rodgers</td>\n",
       "      <td>qb</td>\n",
       "      <td>19.2</td>\n",
       "    </tr>\n",
       "    <tr>\n",
       "      <th>54</th>\n",
       "      <td>leonard fournette</td>\n",
       "      <td>rb</td>\n",
       "      <td>14.8</td>\n",
       "    </tr>\n",
       "    <tr>\n",
       "      <th>128</th>\n",
       "      <td>melvin gordon</td>\n",
       "      <td>rb</td>\n",
       "      <td>1.4</td>\n",
       "    </tr>\n",
       "    <tr>\n",
       "      <th>207</th>\n",
       "      <td>julio jones</td>\n",
       "      <td>wr</td>\n",
       "      <td>12.9</td>\n",
       "    </tr>\n",
       "    <tr>\n",
       "      <th>213</th>\n",
       "      <td>tyreek hill</td>\n",
       "      <td>wr</td>\n",
       "      <td>12.0</td>\n",
       "    </tr>\n",
       "    <tr>\n",
       "      <th>426</th>\n",
       "      <td>eric ebron</td>\n",
       "      <td>te</td>\n",
       "      <td>6.0</td>\n",
       "    </tr>\n",
       "    <tr>\n",
       "      <th>70</th>\n",
       "      <td>marlon mack</td>\n",
       "      <td>rb</td>\n",
       "      <td>11.1</td>\n",
       "    </tr>\n",
       "    <tr>\n",
       "      <th>586</th>\n",
       "      <td>houston texans</td>\n",
       "      <td>dst</td>\n",
       "      <td>5.1</td>\n",
       "    </tr>\n",
       "    <tr>\n",
       "      <th>533</th>\n",
       "      <td>robbie gould</td>\n",
       "      <td>k</td>\n",
       "      <td>8.5</td>\n",
       "    </tr>\n",
       "    <tr>\n",
       "      <th>243</th>\n",
       "      <td>calvin ridley</td>\n",
       "      <td>wr</td>\n",
       "      <td>7.0</td>\n",
       "    </tr>\n",
       "    <tr>\n",
       "      <th>69</th>\n",
       "      <td>damien williams</td>\n",
       "      <td>rb</td>\n",
       "      <td>11.3</td>\n",
       "    </tr>\n",
       "    <tr>\n",
       "      <th>2</th>\n",
       "      <td>drew brees</td>\n",
       "      <td>qb</td>\n",
       "      <td>20.5</td>\n",
       "    </tr>\n",
       "    <tr>\n",
       "      <th>421</th>\n",
       "      <td>david njoku</td>\n",
       "      <td>te</td>\n",
       "      <td>7.0</td>\n",
       "    </tr>\n",
       "    <tr>\n",
       "      <th>238</th>\n",
       "      <td>dante pettis</td>\n",
       "      <td>wr</td>\n",
       "      <td>7.5</td>\n",
       "    </tr>\n",
       "  </tbody>\n",
       "</table>\n",
       "</div>"
      ],
      "text/plain": [
       "               Players Position fantasy_pros\n",
       "5        aaron rodgers       qb         19.2\n",
       "54   leonard fournette       rb         14.8\n",
       "128      melvin gordon       rb          1.4\n",
       "207        julio jones       wr         12.9\n",
       "213        tyreek hill       wr         12.0\n",
       "426         eric ebron       te          6.0\n",
       "70         marlon mack       rb         11.1\n",
       "586     houston texans      dst          5.1\n",
       "533       robbie gould        k          8.5\n",
       "243      calvin ridley       wr          7.0\n",
       "69     damien williams       rb         11.3\n",
       "2           drew brees       qb         20.5\n",
       "421        david njoku       te          7.0\n",
       "238       dante pettis       wr          7.5"
      ]
     },
     "execution_count": 16,
     "metadata": {},
     "output_type": "execute_result"
    }
   ],
   "source": [
    "TW"
   ]
  },
  {
   "cell_type": "markdown",
   "metadata": {},
   "source": [
    "### Print Lineup"
   ]
  },
  {
   "cell_type": "code",
   "execution_count": 20,
   "metadata": {
    "collapsed": true
   },
   "outputs": [],
   "source": [
    "def get_lineup(df, col):\n",
    "    idx = df.groupby(['Position'])[col].transform(max) == df[col]\n",
    "    final = df[idx]\n",
    "    return final"
   ]
  },
  {
   "cell_type": "code",
   "execution_count": 21,
   "metadata": {},
   "outputs": [
    {
     "data": {
      "text/html": [
       "<div>\n",
       "<style scoped>\n",
       "    .dataframe tbody tr th:only-of-type {\n",
       "        vertical-align: middle;\n",
       "    }\n",
       "\n",
       "    .dataframe tbody tr th {\n",
       "        vertical-align: top;\n",
       "    }\n",
       "\n",
       "    .dataframe thead th {\n",
       "        text-align: right;\n",
       "    }\n",
       "</style>\n",
       "<table border=\"1\" class=\"dataframe\">\n",
       "  <thead>\n",
       "    <tr style=\"text-align: right;\">\n",
       "      <th></th>\n",
       "      <th>Players</th>\n",
       "      <th>Position</th>\n",
       "      <th>fantasy_pros</th>\n",
       "    </tr>\n",
       "  </thead>\n",
       "  <tbody>\n",
       "    <tr>\n",
       "      <th>7</th>\n",
       "      <td>carson wentz</td>\n",
       "      <td>qb</td>\n",
       "      <td>19.2</td>\n",
       "    </tr>\n",
       "    <tr>\n",
       "      <th>426</th>\n",
       "      <td>eric ebron</td>\n",
       "      <td>te</td>\n",
       "      <td>6.0</td>\n",
       "    </tr>\n",
       "    <tr>\n",
       "      <th>243</th>\n",
       "      <td>calvin ridley</td>\n",
       "      <td>wr</td>\n",
       "      <td>7.0</td>\n",
       "    </tr>\n",
       "    <tr>\n",
       "      <th>72</th>\n",
       "      <td>jordan howard</td>\n",
       "      <td>rb</td>\n",
       "      <td>9.3</td>\n",
       "    </tr>\n",
       "    <tr>\n",
       "      <th>533</th>\n",
       "      <td>robbie gould</td>\n",
       "      <td>k</td>\n",
       "      <td>8.5</td>\n",
       "    </tr>\n",
       "    <tr>\n",
       "      <th>586</th>\n",
       "      <td>houston texans</td>\n",
       "      <td>dst</td>\n",
       "      <td>5.1</td>\n",
       "    </tr>\n",
       "  </tbody>\n",
       "</table>\n",
       "</div>"
      ],
      "text/plain": [
       "            Players Position fantasy_pros\n",
       "7      carson wentz       qb         19.2\n",
       "426      eric ebron       te          6.0\n",
       "243   calvin ridley       wr          7.0\n",
       "72    jordan howard       rb          9.3\n",
       "533    robbie gould        k          8.5\n",
       "586  houston texans      dst          5.1"
      ]
     },
     "execution_count": 21,
     "metadata": {},
     "output_type": "execute_result"
    }
   ],
   "source": [
    "get_lineup(WOS, 'fantasy_pros')"
   ]
  },
  {
   "cell_type": "code",
   "execution_count": 22,
   "metadata": {},
   "outputs": [
    {
     "data": {
      "text/html": [
       "<div>\n",
       "<style scoped>\n",
       "    .dataframe tbody tr th:only-of-type {\n",
       "        vertical-align: middle;\n",
       "    }\n",
       "\n",
       "    .dataframe tbody tr th {\n",
       "        vertical-align: top;\n",
       "    }\n",
       "\n",
       "    .dataframe thead th {\n",
       "        text-align: right;\n",
       "    }\n",
       "</style>\n",
       "<table border=\"1\" class=\"dataframe\">\n",
       "  <thead>\n",
       "    <tr style=\"text-align: right;\">\n",
       "      <th></th>\n",
       "      <th>Players</th>\n",
       "      <th>Position</th>\n",
       "      <th>fantasy_pros</th>\n",
       "    </tr>\n",
       "  </thead>\n",
       "  <tbody>\n",
       "    <tr>\n",
       "      <th>416</th>\n",
       "      <td>zach ertz</td>\n",
       "      <td>te</td>\n",
       "      <td>8.9</td>\n",
       "    </tr>\n",
       "    <tr>\n",
       "      <th>2</th>\n",
       "      <td>drew brees</td>\n",
       "      <td>qb</td>\n",
       "      <td>20.5</td>\n",
       "    </tr>\n",
       "    <tr>\n",
       "      <th>235</th>\n",
       "      <td>robby anderson</td>\n",
       "      <td>wr</td>\n",
       "      <td>8.3</td>\n",
       "    </tr>\n",
       "    <tr>\n",
       "      <th>78</th>\n",
       "      <td>tarik cohen</td>\n",
       "      <td>rb</td>\n",
       "      <td>7.4</td>\n",
       "    </tr>\n",
       "    <tr>\n",
       "      <th>537</th>\n",
       "      <td>kaimi fairbairn</td>\n",
       "      <td>k</td>\n",
       "      <td>8.3</td>\n",
       "    </tr>\n",
       "    <tr>\n",
       "      <th>563</th>\n",
       "      <td>los angeles chargers</td>\n",
       "      <td>dst</td>\n",
       "      <td>7.3</td>\n",
       "    </tr>\n",
       "  </tbody>\n",
       "</table>\n",
       "</div>"
      ],
      "text/plain": [
       "                  Players Position fantasy_pros\n",
       "416             zach ertz       te          8.9\n",
       "2              drew brees       qb         20.5\n",
       "235        robby anderson       wr          8.3\n",
       "78            tarik cohen       rb          7.4\n",
       "537       kaimi fairbairn        k          8.3\n",
       "563  los angeles chargers      dst          7.3"
      ]
     },
     "execution_count": 22,
     "metadata": {},
     "output_type": "execute_result"
    }
   ],
   "source": [
    "get_lineup(BUMD, 'fantasy_pros')"
   ]
  },
  {
   "cell_type": "code",
   "execution_count": 23,
   "metadata": {},
   "outputs": [
    {
     "data": {
      "text/html": [
       "<div>\n",
       "<style scoped>\n",
       "    .dataframe tbody tr th:only-of-type {\n",
       "        vertical-align: middle;\n",
       "    }\n",
       "\n",
       "    .dataframe tbody tr th {\n",
       "        vertical-align: top;\n",
       "    }\n",
       "\n",
       "    .dataframe thead th {\n",
       "        text-align: right;\n",
       "    }\n",
       "</style>\n",
       "<table border=\"1\" class=\"dataframe\">\n",
       "  <thead>\n",
       "    <tr style=\"text-align: right;\">\n",
       "      <th></th>\n",
       "      <th>Players</th>\n",
       "      <th>Position</th>\n",
       "      <th>fantasy_pros</th>\n",
       "    </tr>\n",
       "  </thead>\n",
       "  <tbody>\n",
       "    <tr>\n",
       "      <th>54</th>\n",
       "      <td>leonard fournette</td>\n",
       "      <td>rb</td>\n",
       "      <td>14.8</td>\n",
       "    </tr>\n",
       "    <tr>\n",
       "      <th>586</th>\n",
       "      <td>houston texans</td>\n",
       "      <td>dst</td>\n",
       "      <td>5.1</td>\n",
       "    </tr>\n",
       "    <tr>\n",
       "      <th>533</th>\n",
       "      <td>robbie gould</td>\n",
       "      <td>k</td>\n",
       "      <td>8.5</td>\n",
       "    </tr>\n",
       "    <tr>\n",
       "      <th>2</th>\n",
       "      <td>drew brees</td>\n",
       "      <td>qb</td>\n",
       "      <td>20.5</td>\n",
       "    </tr>\n",
       "    <tr>\n",
       "      <th>421</th>\n",
       "      <td>david njoku</td>\n",
       "      <td>te</td>\n",
       "      <td>7.0</td>\n",
       "    </tr>\n",
       "    <tr>\n",
       "      <th>238</th>\n",
       "      <td>dante pettis</td>\n",
       "      <td>wr</td>\n",
       "      <td>7.5</td>\n",
       "    </tr>\n",
       "  </tbody>\n",
       "</table>\n",
       "</div>"
      ],
      "text/plain": [
       "               Players Position fantasy_pros\n",
       "54   leonard fournette       rb         14.8\n",
       "586     houston texans      dst          5.1\n",
       "533       robbie gould        k          8.5\n",
       "2           drew brees       qb         20.5\n",
       "421        david njoku       te          7.0\n",
       "238       dante pettis       wr          7.5"
      ]
     },
     "execution_count": 23,
     "metadata": {},
     "output_type": "execute_result"
    }
   ],
   "source": [
    "get_lineup(TW, 'fantasy_pros')"
   ]
  },
  {
   "cell_type": "code",
   "execution_count": null,
   "metadata": {
    "collapsed": true
   },
   "outputs": [],
   "source": []
  },
  {
   "cell_type": "code",
   "execution_count": null,
   "metadata": {
    "collapsed": true
   },
   "outputs": [],
   "source": []
  }
 ],
 "metadata": {
  "kernelspec": {
   "display_name": "Python 3",
   "language": "python",
   "name": "python3"
  },
  "language_info": {
   "codemirror_mode": {
    "name": "ipython",
    "version": 3
   },
   "file_extension": ".py",
   "mimetype": "text/x-python",
   "name": "python",
   "nbconvert_exporter": "python",
   "pygments_lexer": "ipython3",
   "version": "3.6.3"
  },
  "toc": {
   "base_numbering": 1,
   "nav_menu": {},
   "number_sections": true,
   "sideBar": true,
   "skip_h1_title": false,
   "title_cell": "Table of Contents",
   "title_sidebar": "Contents",
   "toc_cell": false,
   "toc_position": {},
   "toc_section_display": true,
   "toc_window_display": false
  }
 },
 "nbformat": 4,
 "nbformat_minor": 2
}
