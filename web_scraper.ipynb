{
 "cells": [
  {
   "cell_type": "markdown",
   "metadata": {},
   "source": [
    "# Web Scrapers"
   ]
  },
  {
   "cell_type": "code",
   "execution_count": 1,
   "metadata": {
    "collapsed": true
   },
   "outputs": [],
   "source": [
    "import requests\n",
    "import urllib.request\n",
    "import time\n",
    "import re\n",
    "from bs4 import BeautifulSoup\n",
    "import pandas as pd\n",
    "import string"
   ]
  },
  {
   "cell_type": "markdown",
   "metadata": {},
   "source": [
    "## Fantasy Pros"
   ]
  },
  {
   "cell_type": "code",
   "execution_count": 2,
   "metadata": {
    "collapsed": true
   },
   "outputs": [],
   "source": [
    "fantasy_pros_urls = ['https://www.fantasypros.com/nfl/projections/qb.php?week=1',\n",
    "                    'https://www.fantasypros.com/nfl/projections/rb.php?week=1',\n",
    "                    'https://www.fantasypros.com/nfl/projections/wr.php?week=1',\n",
    "                    'https://www.fantasypros.com/nfl/projections/te.php?week=1',\n",
    "                    'https://www.fantasypros.com/nfl/projections/k.php?week=1',\n",
    "                    'https://www.fantasypros.com/nfl/projections/dst.php?week=1']"
   ]
  },
  {
   "cell_type": "code",
   "execution_count": 3,
   "metadata": {},
   "outputs": [
    {
     "name": "stdout",
     "output_type": "stream",
     "text": [
      "Running Code for https://www.fantasypros.com/nfl/projections/qb.php?week=1\n",
      "<Response [200]>\n",
      "Total Number of Players: 82\n",
      "Total Numbef of Scores: 82\n",
      "Running Code for https://www.fantasypros.com/nfl/projections/rb.php?week=1\n",
      "<Response [200]>\n",
      "Total Number of Players: 238\n",
      "Total Numbef of Scores: 238\n",
      "Running Code for https://www.fantasypros.com/nfl/projections/wr.php?week=1\n",
      "<Response [200]>\n",
      "Total Number of Players: 452\n",
      "Total Numbef of Scores: 452\n",
      "Running Code for https://www.fantasypros.com/nfl/projections/te.php?week=1\n",
      "<Response [200]>\n",
      "Total Number of Players: 575\n",
      "Total Numbef of Scores: 575\n",
      "Running Code for https://www.fantasypros.com/nfl/projections/k.php?week=1\n",
      "<Response [200]>\n",
      "Total Number of Players: 605\n",
      "Total Numbef of Scores: 605\n",
      "Running Code for https://www.fantasypros.com/nfl/projections/dst.php?week=1\n",
      "<Response [200]>\n",
      "Total Number of Players: 637\n",
      "Total Numbef of Scores: 637\n"
     ]
    }
   ],
   "source": [
    "fantasy_pros_players = []\n",
    "fantasy_pros_points = []\n",
    "fantasy_pros_positions = []\n",
    "\n",
    "for url in fantasy_pros_urls:\n",
    "    position = (url.split('https://www.fantasypros.com/nfl/projections/'))[1].split('.php?week=1')[0]\n",
    "    print(\"Running Code for {}\".format(url))\n",
    "    response = requests.get(url)\n",
    "    print(response)\n",
    "    soup = BeautifulSoup(response.text, \"html.parser\")\n",
    "    \n",
    "    tbl = soup.find('table')\n",
    "    rows = tbl.findAll('tr')\n",
    "    for row in rows:\n",
    "        c = 0\n",
    "        for names in row.find_all(class_='player-name'):\n",
    "            fantasy_pros_players.append(names.text)\n",
    "        for points in row.find_all('td', attrs = {'class' : 'center', 'data-sort-value': True }):\n",
    "            fantasy_pros_positions.append(position)\n",
    "            fantasy_pros_points.append(points.text)\n",
    "\n",
    "    print(\"Total Number of Players: {}\".format(len(fantasy_pros_players)))\n",
    "    print(\"Total Numbef of Scores: {}\".format(len(fantasy_pros_points)))\n",
    "    "
   ]
  },
  {
   "cell_type": "markdown",
   "metadata": {},
   "source": [
    "## Create Table"
   ]
  },
  {
   "cell_type": "code",
   "execution_count": 4,
   "metadata": {
    "collapsed": true
   },
   "outputs": [],
   "source": [
    "d = {'Players':fantasy_pros_players, 'Position':fantasy_pros_positions, 'fantasy_pros':fantasy_pros_points}\n",
    "df = pd.DataFrame(d)\n",
    "df.Players = df['Players'].str.replace('[{}]'.format(string.punctuation), '')\n",
    "df.Players = df['Players'].str.lower()"
   ]
  },
  {
   "cell_type": "markdown",
   "metadata": {},
   "source": [
    "## My Teams"
   ]
  },
  {
   "cell_type": "code",
   "execution_count": 64,
   "metadata": {
    "collapsed": true
   },
   "outputs": [],
   "source": [
    "wide_open_spaces = ['carson wentz', 'deandre hopkins', 'julio jones', 'julian edelman', 'leonard fournette', \n",
    "                    'james white', 'eric ebron', 'calvin ridley', 'jordan howard', 'ben roethlisberger', \n",
    "                    'chris thompson', 'dion lewis', 'jordan reed', 'dk metcalf', 'robbie gould', 'houston']"
   ]
  },
  {
   "cell_type": "code",
   "execution_count": 65,
   "metadata": {
    "collapsed": true
   },
   "outputs": [],
   "source": [
    "brees_up_my_dress = ['baker mayfield', 'deandre hopkins', 'michael thomas', 'joe mixon', 'josh jacobs',\n",
    "                     'zach ertz', 'ty hilton', 'david montgomery', 'drew brees', 'robby anderson', 'tarik cohen',\n",
    "                     'derrius guice', 'eric ebron', 'kaimi fairbairn', 'los angeles']"
   ]
  },
  {
   "cell_type": "code",
   "execution_count": null,
   "metadata": {
    "collapsed": true
   },
   "outputs": [],
   "source": []
  },
  {
   "cell_type": "markdown",
   "metadata": {},
   "source": [
    "## Find Players"
   ]
  },
  {
   "cell_type": "markdown",
   "metadata": {
    "heading_collapsed": true
   },
   "source": [
    "### Functions"
   ]
  },
  {
   "cell_type": "code",
   "execution_count": 66,
   "metadata": {
    "hidden": true
   },
   "outputs": [],
   "source": [
    "def create_team_df(team_name):\n",
    "    team_df = pd.DataFrame()\n",
    "    for player in team_name:\n",
    "        temp = df[df['Players'].str.contains(player)]\n",
    "        if temp.shape[0] > 0:\n",
    "            team_df = pd.concat([team_df, temp])\n",
    "            temp = pd.DataFrame()\n",
    "        else:\n",
    "            print(\"Player {} not found\".format(player))\n",
    "    return team_df"
   ]
  },
  {
   "cell_type": "markdown",
   "metadata": {
    "heading_collapsed": true
   },
   "source": [
    "### Get Teams"
   ]
  },
  {
   "cell_type": "code",
   "execution_count": 67,
   "metadata": {
    "hidden": true
   },
   "outputs": [],
   "source": [
    "WOS = create_team_df(wide_open_spaces)"
   ]
  },
  {
   "cell_type": "code",
   "execution_count": 68,
   "metadata": {
    "hidden": true
   },
   "outputs": [
    {
     "data": {
      "text/html": [
       "<div>\n",
       "<style scoped>\n",
       "    .dataframe tbody tr th:only-of-type {\n",
       "        vertical-align: middle;\n",
       "    }\n",
       "\n",
       "    .dataframe tbody tr th {\n",
       "        vertical-align: top;\n",
       "    }\n",
       "\n",
       "    .dataframe thead th {\n",
       "        text-align: right;\n",
       "    }\n",
       "</style>\n",
       "<table border=\"1\" class=\"dataframe\">\n",
       "  <thead>\n",
       "    <tr style=\"text-align: right;\">\n",
       "      <th></th>\n",
       "      <th>Players</th>\n",
       "      <th>Position</th>\n",
       "      <th>fantasy_pros</th>\n",
       "    </tr>\n",
       "  </thead>\n",
       "  <tbody>\n",
       "    <tr>\n",
       "      <th>6</th>\n",
       "      <td>carson wentz</td>\n",
       "      <td>qb</td>\n",
       "      <td>18.1</td>\n",
       "    </tr>\n",
       "    <tr>\n",
       "      <th>238</th>\n",
       "      <td>deandre hopkins</td>\n",
       "      <td>wr</td>\n",
       "      <td>11.2</td>\n",
       "    </tr>\n",
       "    <tr>\n",
       "      <th>240</th>\n",
       "      <td>julio jones</td>\n",
       "      <td>wr</td>\n",
       "      <td>11.0</td>\n",
       "    </tr>\n",
       "    <tr>\n",
       "      <th>254</th>\n",
       "      <td>julian edelman</td>\n",
       "      <td>wr</td>\n",
       "      <td>8.7</td>\n",
       "    </tr>\n",
       "    <tr>\n",
       "      <th>93</th>\n",
       "      <td>leonard fournette</td>\n",
       "      <td>rb</td>\n",
       "      <td>12.1</td>\n",
       "    </tr>\n",
       "    <tr>\n",
       "      <th>111</th>\n",
       "      <td>james white</td>\n",
       "      <td>rb</td>\n",
       "      <td>8.0</td>\n",
       "    </tr>\n",
       "    <tr>\n",
       "      <th>470</th>\n",
       "      <td>eric ebron</td>\n",
       "      <td>te</td>\n",
       "      <td>3.6</td>\n",
       "    </tr>\n",
       "    <tr>\n",
       "      <th>264</th>\n",
       "      <td>calvin ridley</td>\n",
       "      <td>wr</td>\n",
       "      <td>7.3</td>\n",
       "    </tr>\n",
       "    <tr>\n",
       "      <th>120</th>\n",
       "      <td>jordan howard</td>\n",
       "      <td>rb</td>\n",
       "      <td>6.4</td>\n",
       "    </tr>\n",
       "    <tr>\n",
       "      <th>13</th>\n",
       "      <td>ben roethlisberger</td>\n",
       "      <td>qb</td>\n",
       "      <td>17.4</td>\n",
       "    </tr>\n",
       "    <tr>\n",
       "      <th>133</th>\n",
       "      <td>chris thompson</td>\n",
       "      <td>rb</td>\n",
       "      <td>4.5</td>\n",
       "    </tr>\n",
       "    <tr>\n",
       "      <th>122</th>\n",
       "      <td>dion lewis</td>\n",
       "      <td>rb</td>\n",
       "      <td>6.2</td>\n",
       "    </tr>\n",
       "    <tr>\n",
       "      <th>471</th>\n",
       "      <td>jordan reed</td>\n",
       "      <td>te</td>\n",
       "      <td>3.6</td>\n",
       "    </tr>\n",
       "    <tr>\n",
       "      <th>301</th>\n",
       "      <td>dk metcalf</td>\n",
       "      <td>wr</td>\n",
       "      <td>4.5</td>\n",
       "    </tr>\n",
       "    <tr>\n",
       "      <th>582</th>\n",
       "      <td>robbie gould</td>\n",
       "      <td>k</td>\n",
       "      <td>8.6</td>\n",
       "    </tr>\n",
       "    <tr>\n",
       "      <th>636</th>\n",
       "      <td>houston texans</td>\n",
       "      <td>dst</td>\n",
       "      <td>4.6</td>\n",
       "    </tr>\n",
       "  </tbody>\n",
       "</table>\n",
       "</div>"
      ],
      "text/plain": [
       "                Players Position fantasy_pros\n",
       "6          carson wentz       qb         18.1\n",
       "238     deandre hopkins       wr         11.2\n",
       "240         julio jones       wr         11.0\n",
       "254      julian edelman       wr          8.7\n",
       "93    leonard fournette       rb         12.1\n",
       "111         james white       rb          8.0\n",
       "470          eric ebron       te          3.6\n",
       "264       calvin ridley       wr          7.3\n",
       "120       jordan howard       rb          6.4\n",
       "13   ben roethlisberger       qb         17.4\n",
       "133      chris thompson       rb          4.5\n",
       "122          dion lewis       rb          6.2\n",
       "471         jordan reed       te          3.6\n",
       "301          dk metcalf       wr          4.5\n",
       "582        robbie gould        k          8.6\n",
       "636      houston texans      dst          4.6"
      ]
     },
     "execution_count": 68,
     "metadata": {},
     "output_type": "execute_result"
    }
   ],
   "source": [
    "WOS"
   ]
  },
  {
   "cell_type": "code",
   "execution_count": 70,
   "metadata": {
    "hidden": true
   },
   "outputs": [],
   "source": [
    "BUMD = create_team_df(brees_up_my_dress)"
   ]
  },
  {
   "cell_type": "code",
   "execution_count": 71,
   "metadata": {
    "hidden": true
   },
   "outputs": [
    {
     "data": {
      "text/html": [
       "<div>\n",
       "<style scoped>\n",
       "    .dataframe tbody tr th:only-of-type {\n",
       "        vertical-align: middle;\n",
       "    }\n",
       "\n",
       "    .dataframe tbody tr th {\n",
       "        vertical-align: top;\n",
       "    }\n",
       "\n",
       "    .dataframe thead th {\n",
       "        text-align: right;\n",
       "    }\n",
       "</style>\n",
       "<table border=\"1\" class=\"dataframe\">\n",
       "  <thead>\n",
       "    <tr style=\"text-align: right;\">\n",
       "      <th></th>\n",
       "      <th>Players</th>\n",
       "      <th>Position</th>\n",
       "      <th>fantasy_pros</th>\n",
       "    </tr>\n",
       "  </thead>\n",
       "  <tbody>\n",
       "    <tr>\n",
       "      <th>9</th>\n",
       "      <td>baker mayfield</td>\n",
       "      <td>qb</td>\n",
       "      <td>17.8</td>\n",
       "    </tr>\n",
       "    <tr>\n",
       "      <th>238</th>\n",
       "      <td>deandre hopkins</td>\n",
       "      <td>wr</td>\n",
       "      <td>11.2</td>\n",
       "    </tr>\n",
       "    <tr>\n",
       "      <th>243</th>\n",
       "      <td>michael thomas</td>\n",
       "      <td>wr</td>\n",
       "      <td>10.4</td>\n",
       "    </tr>\n",
       "    <tr>\n",
       "      <th>96</th>\n",
       "      <td>joe mixon</td>\n",
       "      <td>rb</td>\n",
       "      <td>11.0</td>\n",
       "    </tr>\n",
       "    <tr>\n",
       "      <th>97</th>\n",
       "      <td>josh jacobs</td>\n",
       "      <td>rb</td>\n",
       "      <td>10.9</td>\n",
       "    </tr>\n",
       "    <tr>\n",
       "      <th>454</th>\n",
       "      <td>zach ertz</td>\n",
       "      <td>te</td>\n",
       "      <td>7.1</td>\n",
       "    </tr>\n",
       "    <tr>\n",
       "      <th>262</th>\n",
       "      <td>ty hilton</td>\n",
       "      <td>wr</td>\n",
       "      <td>7.3</td>\n",
       "    </tr>\n",
       "    <tr>\n",
       "      <th>100</th>\n",
       "      <td>david montgomery</td>\n",
       "      <td>rb</td>\n",
       "      <td>10.0</td>\n",
       "    </tr>\n",
       "    <tr>\n",
       "      <th>5</th>\n",
       "      <td>drew brees</td>\n",
       "      <td>qb</td>\n",
       "      <td>18.4</td>\n",
       "    </tr>\n",
       "    <tr>\n",
       "      <th>270</th>\n",
       "      <td>robby anderson</td>\n",
       "      <td>wr</td>\n",
       "      <td>7.0</td>\n",
       "    </tr>\n",
       "    <tr>\n",
       "      <th>112</th>\n",
       "      <td>tarik cohen</td>\n",
       "      <td>rb</td>\n",
       "      <td>8.0</td>\n",
       "    </tr>\n",
       "    <tr>\n",
       "      <th>125</th>\n",
       "      <td>derrius guice</td>\n",
       "      <td>rb</td>\n",
       "      <td>5.8</td>\n",
       "    </tr>\n",
       "    <tr>\n",
       "      <th>470</th>\n",
       "      <td>eric ebron</td>\n",
       "      <td>te</td>\n",
       "      <td>3.6</td>\n",
       "    </tr>\n",
       "    <tr>\n",
       "      <th>590</th>\n",
       "      <td>kaimi fairbairn</td>\n",
       "      <td>k</td>\n",
       "      <td>8.1</td>\n",
       "    </tr>\n",
       "    <tr>\n",
       "      <th>612</th>\n",
       "      <td>los angeles chargers</td>\n",
       "      <td>dst</td>\n",
       "      <td>7.1</td>\n",
       "    </tr>\n",
       "    <tr>\n",
       "      <th>618</th>\n",
       "      <td>los angeles rams</td>\n",
       "      <td>dst</td>\n",
       "      <td>6.5</td>\n",
       "    </tr>\n",
       "  </tbody>\n",
       "</table>\n",
       "</div>"
      ],
      "text/plain": [
       "                  Players Position fantasy_pros\n",
       "9          baker mayfield       qb         17.8\n",
       "238       deandre hopkins       wr         11.2\n",
       "243        michael thomas       wr         10.4\n",
       "96              joe mixon       rb         11.0\n",
       "97            josh jacobs       rb         10.9\n",
       "454             zach ertz       te          7.1\n",
       "262             ty hilton       wr          7.3\n",
       "100      david montgomery       rb         10.0\n",
       "5              drew brees       qb         18.4\n",
       "270        robby anderson       wr          7.0\n",
       "112           tarik cohen       rb          8.0\n",
       "125         derrius guice       rb          5.8\n",
       "470            eric ebron       te          3.6\n",
       "590       kaimi fairbairn        k          8.1\n",
       "612  los angeles chargers      dst          7.1\n",
       "618      los angeles rams      dst          6.5"
      ]
     },
     "execution_count": 71,
     "metadata": {},
     "output_type": "execute_result"
    }
   ],
   "source": [
    "BUMD"
   ]
  },
  {
   "cell_type": "markdown",
   "metadata": {},
   "source": [
    "### Print Lineup"
   ]
  },
  {
   "cell_type": "code",
   "execution_count": 82,
   "metadata": {
    "collapsed": true
   },
   "outputs": [],
   "source": [
    "def get_lineup(df, col):\n",
    "    idx = df.groupby(['Position'])[col].transform(max) == df[col]\n",
    "    final = WOS[idx]\n",
    "    return final"
   ]
  },
  {
   "cell_type": "code",
   "execution_count": 83,
   "metadata": {},
   "outputs": [
    {
     "data": {
      "text/html": [
       "<div>\n",
       "<style scoped>\n",
       "    .dataframe tbody tr th:only-of-type {\n",
       "        vertical-align: middle;\n",
       "    }\n",
       "\n",
       "    .dataframe tbody tr th {\n",
       "        vertical-align: top;\n",
       "    }\n",
       "\n",
       "    .dataframe thead th {\n",
       "        text-align: right;\n",
       "    }\n",
       "</style>\n",
       "<table border=\"1\" class=\"dataframe\">\n",
       "  <thead>\n",
       "    <tr style=\"text-align: right;\">\n",
       "      <th></th>\n",
       "      <th>Players</th>\n",
       "      <th>Position</th>\n",
       "      <th>fantasy_pros</th>\n",
       "    </tr>\n",
       "  </thead>\n",
       "  <tbody>\n",
       "    <tr>\n",
       "      <th>6</th>\n",
       "      <td>carson wentz</td>\n",
       "      <td>qb</td>\n",
       "      <td>18.1</td>\n",
       "    </tr>\n",
       "    <tr>\n",
       "      <th>254</th>\n",
       "      <td>julian edelman</td>\n",
       "      <td>wr</td>\n",
       "      <td>8.7</td>\n",
       "    </tr>\n",
       "    <tr>\n",
       "      <th>111</th>\n",
       "      <td>james white</td>\n",
       "      <td>rb</td>\n",
       "      <td>8.0</td>\n",
       "    </tr>\n",
       "    <tr>\n",
       "      <th>470</th>\n",
       "      <td>eric ebron</td>\n",
       "      <td>te</td>\n",
       "      <td>3.6</td>\n",
       "    </tr>\n",
       "    <tr>\n",
       "      <th>471</th>\n",
       "      <td>jordan reed</td>\n",
       "      <td>te</td>\n",
       "      <td>3.6</td>\n",
       "    </tr>\n",
       "    <tr>\n",
       "      <th>582</th>\n",
       "      <td>robbie gould</td>\n",
       "      <td>k</td>\n",
       "      <td>8.6</td>\n",
       "    </tr>\n",
       "    <tr>\n",
       "      <th>636</th>\n",
       "      <td>houston texans</td>\n",
       "      <td>dst</td>\n",
       "      <td>4.6</td>\n",
       "    </tr>\n",
       "  </tbody>\n",
       "</table>\n",
       "</div>"
      ],
      "text/plain": [
       "            Players Position fantasy_pros\n",
       "6      carson wentz       qb         18.1\n",
       "254  julian edelman       wr          8.7\n",
       "111     james white       rb          8.0\n",
       "470      eric ebron       te          3.6\n",
       "471     jordan reed       te          3.6\n",
       "582    robbie gould        k          8.6\n",
       "636  houston texans      dst          4.6"
      ]
     },
     "execution_count": 83,
     "metadata": {},
     "output_type": "execute_result"
    }
   ],
   "source": [
    "get_lineup(WOS, 'fantasy_pros')"
   ]
  },
  {
   "cell_type": "code",
   "execution_count": null,
   "metadata": {
    "collapsed": true
   },
   "outputs": [],
   "source": []
  }
 ],
 "metadata": {
  "kernelspec": {
   "display_name": "Python 3",
   "language": "python",
   "name": "python3"
  },
  "language_info": {
   "codemirror_mode": {
    "name": "ipython",
    "version": 3
   },
   "file_extension": ".py",
   "mimetype": "text/x-python",
   "name": "python",
   "nbconvert_exporter": "python",
   "pygments_lexer": "ipython3",
   "version": "3.6.3"
  },
  "toc": {
   "base_numbering": 1,
   "nav_menu": {},
   "number_sections": true,
   "sideBar": true,
   "skip_h1_title": false,
   "title_cell": "Table of Contents",
   "title_sidebar": "Contents",
   "toc_cell": false,
   "toc_position": {},
   "toc_section_display": true,
   "toc_window_display": false
  }
 },
 "nbformat": 4,
 "nbformat_minor": 2
}
